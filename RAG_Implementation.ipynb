{
 "cells": [
  {
   "cell_type": "code",
   "execution_count": 2,
   "id": "39d4e317",
   "metadata": {},
   "outputs": [],
   "source": [
    "corpus_of_documents = [\n",
    "    \"Chennai Super Kings won the IPL 2023 championship by defeating Gujarat Titans in the final match.\",\n",
    "    \"MS Dhoni led CSK to their record fifth IPL title in 2023.\",\n",
    "    \"Chennai Super Kings secured a thrilling victory in the IPL 2023 final held at Narendra Modi Stadium.\",\n",
    "    \"The IPL 2023 season saw CSK rise to the top, clinching the championship trophy.\",\n",
    "    \"Chennai Super Kings emerged as the champions of IPL 2023, adding another victory to their illustrious history.\",\n",
    "    \"MS Dhoni's strategic leadership proved instrumental in CSK's IPL 2023 triumph.\",\n",
    "    \"Fans across India celebrated Chennai Super Kings' historic win in the IPL 2023 finals.\",\n",
    "    \"The IPL 2023 tournament culminated in an exciting final match, with CSK claiming victory over Gujarat Titans.\",\n",
    "    \"Chennai Super Kings' strong team performance throughout the season led to their IPL 2023 championship win.\",\n",
    "    \"MS Dhoni and the CSK team lifted the IPL 2023 trophy, adding another chapter to their remarkable IPL journey.\",\n",
    "\n",
    "    \"CSK's consistent performance throughout IPL 2023 set them up for their championship win.\",\n",
    "    \"Ravindra Jadeja's all-round performance played a crucial role in CSK's victory in IPL 2023.\",\n",
    "    \"Chennai Super Kings' commitment to teamwork and dedication resulted in their record-equaling fifth IPL title win.\",\n",
    "    \"The atmosphere at Narendra Modi Stadium during the IPL 2023 final was electric, with fans cheering on CSK.\",\n",
    "    \"CSK's international stars, including Moeen Ali and Faf du Plessis, contributed significantly to the team's success in IPL 2023.\",\n",
    "    \"The CSK management's focus on building a balanced squad paid dividends in their championship win.\",\n",
    "    \"The IPL 2023 final match was a testament to the high-quality cricket displayed by CSK throughout the tournament.\",\n",
    "    \"Chennai Super Kings' fanbase grew even larger following their inspiring IPL 2023 victory.\",\n",
    "    \"The nail-biting finish in the IPL 2023 final showcased CSK's determination to secure the championship title.\",\n",
    "    \"MS Dhoni's calm demeanor and experience were key factors in CSK's success during IPL 2023.\",\n",
    "    \"Chennai Super Kings' victory in IPL 2023 has further cemented their status as one of the most successful teams in the tournament's history.\",\n",
    "    \"The coaching staff of CSK played a significant role in strategizing and guiding the team to victory in IPL 2023.\",\n",
    "    \"CSK's impressive batting and bowling performances throughout IPL 2023 demonstrated the team's depth and versatility.\",\n",
    "    \"The IPL 2023 championship trophy serves as a reminder of CSK's resilience and never-say-die attitude.\",\n",
    "    \"MS Dhoni's leadership and CSK's teamwork set an example for other teams in the IPL.\",\n",
    "    \"Chennai Super Kings' IPL 2023 victory has inspired a new generation of cricket fans in India.\",\n",
    "]\n"
   ]
  },
  {
   "cell_type": "code",
   "execution_count": 3,
   "id": "979df093",
   "metadata": {},
   "outputs": [
    {
     "data": {
      "text/plain": [
       "['Chennai Super Kings won the IPL 2023 championship by defeating Gujarat Titans in the final match.',\n",
       " 'MS Dhoni led CSK to their record fifth IPL title in 2023.',\n",
       " 'Chennai Super Kings secured a thrilling victory in the IPL 2023 final held at Narendra Modi Stadium.',\n",
       " 'The IPL 2023 season saw CSK rise to the top, clinching the championship trophy.',\n",
       " 'Chennai Super Kings emerged as the champions of IPL 2023, adding another victory to their illustrious history.',\n",
       " \"MS Dhoni's strategic leadership proved instrumental in CSK's IPL 2023 triumph.\",\n",
       " \"Fans across India celebrated Chennai Super Kings' historic win in the IPL 2023 finals.\",\n",
       " 'The IPL 2023 tournament culminated in an exciting final match, with CSK claiming victory over Gujarat Titans.',\n",
       " \"Chennai Super Kings' strong team performance throughout the season led to their IPL 2023 championship win.\",\n",
       " 'MS Dhoni and the CSK team lifted the IPL 2023 trophy, adding another chapter to their remarkable IPL journey.',\n",
       " \"CSK's consistent performance throughout IPL 2023 set them up for their championship win.\",\n",
       " \"Ravindra Jadeja's all-round performance played a crucial role in CSK's victory in IPL 2023.\",\n",
       " \"Chennai Super Kings' commitment to teamwork and dedication resulted in their record-equaling fifth IPL title win.\",\n",
       " 'The atmosphere at Narendra Modi Stadium during the IPL 2023 final was electric, with fans cheering on CSK.',\n",
       " \"CSK's international stars, including Moeen Ali and Faf du Plessis, contributed significantly to the team's success in IPL 2023.\",\n",
       " \"The CSK management's focus on building a balanced squad paid dividends in their championship win.\",\n",
       " 'The IPL 2023 final match was a testament to the high-quality cricket displayed by CSK throughout the tournament.',\n",
       " \"Chennai Super Kings' fanbase grew even larger following their inspiring IPL 2023 victory.\",\n",
       " \"The nail-biting finish in the IPL 2023 final showcased CSK's determination to secure the championship title.\",\n",
       " \"MS Dhoni's calm demeanor and experience were key factors in CSK's success during IPL 2023.\",\n",
       " \"Chennai Super Kings' victory in IPL 2023 has further cemented their status as one of the most successful teams in the tournament's history.\",\n",
       " 'The coaching staff of CSK played a significant role in strategizing and guiding the team to victory in IPL 2023.',\n",
       " \"CSK's impressive batting and bowling performances throughout IPL 2023 demonstrated the team's depth and versatility.\",\n",
       " \"The IPL 2023 championship trophy serves as a reminder of CSK's resilience and never-say-die attitude.\",\n",
       " \"MS Dhoni's leadership and CSK's teamwork set an example for other teams in the IPL.\",\n",
       " \"Chennai Super Kings' IPL 2023 victory has inspired a new generation of cricket fans in India.\"]"
      ]
     },
     "execution_count": 3,
     "metadata": {},
     "output_type": "execute_result"
    }
   ],
   "source": [
    "corpus_of_documents"
   ]
  },
  {
   "cell_type": "code",
   "execution_count": 4,
   "id": "902c7c9a",
   "metadata": {},
   "outputs": [],
   "source": [
    "user_query=\"who won the ipl 2023\""
   ]
  },
  {
   "cell_type": "code",
   "execution_count": 5,
   "id": "70a0c928",
   "metadata": {},
   "outputs": [],
   "source": [
    "document=\"Chennai Super Kings won the IPL 2023 championship by defeating Gujarat Titans in the final match.\""
   ]
  },
  {
   "cell_type": "code",
   "execution_count": 6,
   "id": "38cb92c2",
   "metadata": {},
   "outputs": [],
   "source": [
    "from collections import Counter\n",
    "import math"
   ]
  },
  {
   "cell_type": "code",
   "execution_count": 7,
   "id": "139463fa",
   "metadata": {},
   "outputs": [],
   "source": [
    "user_tokens=user_query.lower().split(\" \")"
   ]
  },
  {
   "cell_type": "code",
   "execution_count": 8,
   "id": "01362c29",
   "metadata": {},
   "outputs": [],
   "source": [
    "document_tokens=document.lower().split(\" \")"
   ]
  },
  {
   "cell_type": "code",
   "execution_count": 9,
   "id": "5ef96186",
   "metadata": {},
   "outputs": [
    {
     "data": {
      "text/plain": [
       "['chennai',\n",
       " 'super',\n",
       " 'kings',\n",
       " 'won',\n",
       " 'the',\n",
       " 'ipl',\n",
       " '2023',\n",
       " 'championship',\n",
       " 'by',\n",
       " 'defeating',\n",
       " 'gujarat',\n",
       " 'titans',\n",
       " 'in',\n",
       " 'the',\n",
       " 'final',\n",
       " 'match.']"
      ]
     },
     "execution_count": 9,
     "metadata": {},
     "output_type": "execute_result"
    }
   ],
   "source": [
    "document_tokens"
   ]
  },
  {
   "cell_type": "code",
   "execution_count": 10,
   "id": "04691117",
   "metadata": {},
   "outputs": [
    {
     "data": {
      "text/plain": [
       "['who', 'won', 'the', 'ipl', '2023']"
      ]
     },
     "execution_count": 10,
     "metadata": {},
     "output_type": "execute_result"
    }
   ],
   "source": [
    "user_tokens"
   ]
  },
  {
   "cell_type": "code",
   "execution_count": 11,
   "id": "53950a9d",
   "metadata": {},
   "outputs": [],
   "source": [
    "user_counter=Counter(user_tokens)"
   ]
  },
  {
   "cell_type": "code",
   "execution_count": 12,
   "id": "0bc4ebe7",
   "metadata": {},
   "outputs": [
    {
     "data": {
      "text/plain": [
       "Counter({'who': 1, 'won': 1, 'the': 1, 'ipl': 1, '2023': 1})"
      ]
     },
     "execution_count": 12,
     "metadata": {},
     "output_type": "execute_result"
    }
   ],
   "source": [
    "user_counter"
   ]
  },
  {
   "cell_type": "code",
   "execution_count": 13,
   "id": "3f566e43",
   "metadata": {},
   "outputs": [],
   "source": [
    "document_counter=Counter(document_tokens)"
   ]
  },
  {
   "cell_type": "code",
   "execution_count": 14,
   "id": "28d56127",
   "metadata": {},
   "outputs": [
    {
     "data": {
      "text/plain": [
       "Counter({'the': 2,\n",
       "         'chennai': 1,\n",
       "         'super': 1,\n",
       "         'kings': 1,\n",
       "         'won': 1,\n",
       "         'ipl': 1,\n",
       "         '2023': 1,\n",
       "         'championship': 1,\n",
       "         'by': 1,\n",
       "         'defeating': 1,\n",
       "         'gujarat': 1,\n",
       "         'titans': 1,\n",
       "         'in': 1,\n",
       "         'final': 1,\n",
       "         'match.': 1})"
      ]
     },
     "execution_count": 14,
     "metadata": {},
     "output_type": "execute_result"
    }
   ],
   "source": [
    "document_counter"
   ]
  },
  {
   "cell_type": "code",
   "execution_count": 15,
   "id": "e7c00f7c",
   "metadata": {},
   "outputs": [],
   "source": [
    "new=[]\n",
    "for tokens in user_counter.keys():\n",
    "    new.append((user_counter[tokens]))"
   ]
  },
  {
   "cell_type": "code",
   "execution_count": 16,
   "id": "25635977",
   "metadata": {},
   "outputs": [
    {
     "data": {
      "text/plain": [
       "[1, 1, 1, 1, 1]"
      ]
     },
     "execution_count": 16,
     "metadata": {},
     "output_type": "execute_result"
    }
   ],
   "source": [
    "new"
   ]
  },
  {
   "cell_type": "code",
   "execution_count": 17,
   "id": "97e72143",
   "metadata": {},
   "outputs": [],
   "source": [
    "new2=[]\n",
    "for tokens in document_counter.keys():\n",
    "    new2.append((document_counter[tokens]))"
   ]
  },
  {
   "cell_type": "code",
   "execution_count": 18,
   "id": "30843f4b",
   "metadata": {},
   "outputs": [
    {
     "data": {
      "text/plain": [
       "[1, 1, 1, 1, 2, 1, 1, 1, 1, 1, 1, 1, 1, 1, 1]"
      ]
     },
     "execution_count": 18,
     "metadata": {},
     "output_type": "execute_result"
    }
   ],
   "source": [
    "new2"
   ]
  },
  {
   "cell_type": "code",
   "execution_count": 19,
   "id": "4622f7d9",
   "metadata": {},
   "outputs": [
    {
     "name": "stdout",
     "output_type": "stream",
     "text": [
      "won\n",
      "2023\n",
      "the\n",
      "ipl\n"
     ]
    }
   ],
   "source": [
    "for tokens in user_counter.keys() & document_counter.keys():\n",
    "    print(tokens)"
   ]
  },
  {
   "cell_type": "code",
   "execution_count": 20,
   "id": "068d70f8",
   "metadata": {},
   "outputs": [],
   "source": [
    "mylist=[]\n",
    "for tokens in user_counter.keys() & document_counter.keys():\n",
    "    mylist.append(user_counter[tokens]*document_counter[tokens])"
   ]
  },
  {
   "cell_type": "code",
   "execution_count": 21,
   "id": "77c95748",
   "metadata": {},
   "outputs": [
    {
     "data": {
      "text/plain": [
       "[1, 1, 2, 1]"
      ]
     },
     "execution_count": 21,
     "metadata": {},
     "output_type": "execute_result"
    }
   ],
   "source": [
    "mylist"
   ]
  },
  {
   "cell_type": "code",
   "execution_count": 22,
   "id": "b5552f5b",
   "metadata": {},
   "outputs": [],
   "source": [
    "dot_prod=sum(mylist)"
   ]
  },
  {
   "cell_type": "code",
   "execution_count": 23,
   "id": "f83e7115",
   "metadata": {},
   "outputs": [
    {
     "data": {
      "text/plain": [
       "5"
      ]
     },
     "execution_count": 23,
     "metadata": {},
     "output_type": "execute_result"
    }
   ],
   "source": [
    "dot_prod"
   ]
  },
  {
   "cell_type": "code",
   "execution_count": 24,
   "id": "86501e22",
   "metadata": {},
   "outputs": [],
   "source": [
    "query_magnitude = math.sqrt(sum(user_counter[token] ** 2 for token in user_counter))"
   ]
  },
  {
   "cell_type": "code",
   "execution_count": 25,
   "id": "e691cc35",
   "metadata": {},
   "outputs": [
    {
     "data": {
      "text/plain": [
       "2.23606797749979"
      ]
     },
     "execution_count": 25,
     "metadata": {},
     "output_type": "execute_result"
    }
   ],
   "source": [
    "query_magnitude "
   ]
  },
  {
   "cell_type": "code",
   "execution_count": 26,
   "id": "f3e8aa58",
   "metadata": {},
   "outputs": [],
   "source": [
    "document_magnitude= math.sqrt(sum(document_counter[token] ** 2 for token in document_counter))"
   ]
  },
  {
   "cell_type": "code",
   "execution_count": 27,
   "id": "2d1ad3e6",
   "metadata": {},
   "outputs": [
    {
     "data": {
      "text/plain": [
       "4.242640687119285"
      ]
     },
     "execution_count": 27,
     "metadata": {},
     "output_type": "execute_result"
    }
   ],
   "source": [
    "document_magnitude"
   ]
  },
  {
   "cell_type": "code",
   "execution_count": 28,
   "id": "f1eeb339",
   "metadata": {},
   "outputs": [],
   "source": [
    "similarity=(dot_prod)/(query_magnitude*document_magnitude)"
   ]
  },
  {
   "cell_type": "code",
   "execution_count": 29,
   "id": "d43ed516",
   "metadata": {},
   "outputs": [
    {
     "data": {
      "text/plain": [
       "0.5270462766947299"
      ]
     },
     "execution_count": 29,
     "metadata": {},
     "output_type": "execute_result"
    }
   ],
   "source": [
    "similarity"
   ]
  },
  {
   "cell_type": "code",
   "execution_count": 30,
   "id": "8238b6d6",
   "metadata": {},
   "outputs": [],
   "source": [
    "def cosine_similarity(query, document):\n",
    "    # Tokenize and convert to lowercase\n",
    "    query_tokens = query.lower().split(\" \")\n",
    "    document_tokens = document.lower().split(\" \")\n",
    "\n",
    "    # Create Counters for query and document\n",
    "    query_counter = Counter(query_tokens)\n",
    "    document_counter = Counter(document_tokens)\n",
    "\n",
    "    # Calculate dot product\n",
    "    dot_product = sum(user_counter[token] * document_counter[token] for token in user_counter.keys() & document_counter.keys())\n",
    "\n",
    "    # Calculate magnitudes\n",
    "    query_magnitude = math.sqrt(sum(query_counter[token] ** 2 for token in query_counter))\n",
    "    document_magnitude = math.sqrt(sum(document_counter[token] ** 2 for token in document_counter))\n",
    "\n",
    "    # Calculate cosine similarity\n",
    "    similarity = dot_product / (query_magnitude * document_magnitude) if query_magnitude * document_magnitude != 0 else 0\n",
    "\n",
    "    return similarity"
   ]
  },
  {
   "cell_type": "code",
   "execution_count": 31,
   "id": "7e8c3340",
   "metadata": {},
   "outputs": [],
   "source": [
    "query=\"ipl 2023 won by chennai super kings?\"\n",
    "document=\"Chennai Super Kings won the IPL 2023 championship by defeating Gujarat Titans in the final match.\""
   ]
  },
  {
   "cell_type": "code",
   "execution_count": 32,
   "id": "2f8399bb",
   "metadata": {},
   "outputs": [
    {
     "data": {
      "text/plain": [
       "0.44543540318737396"
      ]
     },
     "execution_count": 32,
     "metadata": {},
     "output_type": "execute_result"
    }
   ],
   "source": [
    "cosine_similarity(query,document)"
   ]
  },
  {
   "cell_type": "code",
   "execution_count": 33,
   "id": "36c08dc2",
   "metadata": {},
   "outputs": [],
   "source": [
    "def return_response(query, corpus):\n",
    "    similarities = []\n",
    "    for doc in corpus:\n",
    "        similarity = cosine_similarity(query, doc)\n",
    "        similarities.append(similarity)\n",
    "    return corpus_of_documents[similarities.index(max(similarities))]"
   ]
  },
  {
   "cell_type": "code",
   "execution_count": 34,
   "id": "82d0ce67",
   "metadata": {},
   "outputs": [],
   "source": [
    "user_input=\"who won ipl 2023?\""
   ]
  },
  {
   "cell_type": "code",
   "execution_count": 35,
   "id": "1c9216f4",
   "metadata": {},
   "outputs": [],
   "source": [
    "relevant_document=return_response(user_input,corpus_of_documents)"
   ]
  },
  {
   "cell_type": "code",
   "execution_count": 36,
   "id": "be787dfc",
   "metadata": {},
   "outputs": [
    {
     "data": {
      "text/plain": [
       "'Chennai Super Kings won the IPL 2023 championship by defeating Gujarat Titans in the final match.'"
      ]
     },
     "execution_count": 36,
     "metadata": {},
     "output_type": "execute_result"
    }
   ],
   "source": [
    "relevant_document"
   ]
  },
  {
   "cell_type": "code",
   "execution_count": 37,
   "id": "6722dade",
   "metadata": {},
   "outputs": [],
   "source": [
    "import requests\n",
    "import json\n",
    "full_response = []"
   ]
  },
  {
   "cell_type": "code",
   "execution_count": null,
   "id": "4618a0ba",
   "metadata": {},
   "outputs": [],
   "source": []
  },
  {
   "cell_type": "code",
   "execution_count": 40,
   "id": "df28d73b",
   "metadata": {},
   "outputs": [
    {
     "name": "stdout",
     "output_type": "stream",
     "text": [
      " Captain Mahendra Singh Dhoni leads Chennai Super Kings.\n"
     ]
    }
   ],
   "source": [
    "full_response = []\n",
    "prompt = \"\"\"\n",
    "You are a bot that makes recommendations for activities. You answer in very short sentences and do not include extra information.\n",
    "This is the recommended activity: {relevant_document}\n",
    "The user input is: {user_input}\n",
    "Compile a recommendation to the user based on the recommended activity and the user input.\n",
    "\"\"\"\n",
    "\n",
    "url = 'http://localhost:11434/api/generate'\n",
    "\n",
    "\n",
    "data = {\n",
    "    \"model\": \"llama2\",\n",
    "    \"prompt\": prompt.format(user_input=user_input, relevant_document=relevant_document)\n",
    "}\n",
    "\n",
    "headers = {'Content-Type': 'application/json'}\n",
    "\n",
    "response = requests.post(url, data=json.dumps(data), headers=headers, stream=True)\n",
    "\n",
    "\n",
    "try:\n",
    "    for line in response.iter_lines():\n",
    "        # filter out keep-alive new lines\n",
    "        if line:\n",
    "            decoded_line = json.loads(line.decode('utf-8'))\n",
    "            # print(decoded_line['response'])  # uncomment to results, token by token\n",
    "            full_response.append(decoded_line['response'])\n",
    "finally:\n",
    "    response.close()\n",
    "    \n",
    "    \n",
    "print(''.join(full_response))"
   ]
  },
  {
   "cell_type": "code",
   "execution_count": 39,
   "id": "7a3dc4c5",
   "metadata": {},
   "outputs": [],
   "source": [
    "user_input=\"who is the captain of chennai super kings\""
   ]
  },
  {
   "cell_type": "code",
   "execution_count": null,
   "id": "4b0dffff",
   "metadata": {},
   "outputs": [],
   "source": []
  }
 ],
 "metadata": {
  "kernelspec": {
   "display_name": "Python 3 (ipykernel)",
   "language": "python",
   "name": "python3"
  },
  "language_info": {
   "codemirror_mode": {
    "name": "ipython",
    "version": 3
   },
   "file_extension": ".py",
   "mimetype": "text/x-python",
   "name": "python",
   "nbconvert_exporter": "python",
   "pygments_lexer": "ipython3",
   "version": "3.12.1"
  }
 },
 "nbformat": 4,
 "nbformat_minor": 5
}
